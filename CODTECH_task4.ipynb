{
  "nbformat": 4,
  "nbformat_minor": 0,
  "metadata": {
    "colab": {
      "provenance": [],
      "authorship_tag": "ABX9TyPuX2B/fBZ6CLFfIXTqU9/k",
      "include_colab_link": true
    },
    "kernelspec": {
      "name": "python3",
      "display_name": "Python 3"
    },
    "language_info": {
      "name": "python"
    }
  },
  "cells": [
    {
      "cell_type": "markdown",
      "metadata": {
        "id": "view-in-github",
        "colab_type": "text"
      },
      "source": [
        "<a href=\"https://colab.research.google.com/github/Sona-kits/codtech_task4/blob/main/CODTECH_task4.ipynb\" target=\"_parent\"><img src=\"https://colab.research.google.com/assets/colab-badge.svg\" alt=\"Open In Colab\"/></a>"
      ]
    },
    {
      "cell_type": "code",
      "execution_count": 12,
      "metadata": {
        "colab": {
          "base_uri": "https://localhost:8080/"
        },
        "id": "HDPPWQDKyQtN",
        "outputId": "c95ced9f-2115-49b9-a6c0-97f76b667a03"
      },
      "outputs": [
        {
          "output_type": "stream",
          "name": "stderr",
          "text": [
            "Device set to use cpu\n"
          ]
        },
        {
          "output_type": "stream",
          "name": "stdout",
          "text": [
            "Text Generator using GPT-2\n",
            "Type 'exit' to quit.\n",
            "\n",
            "Enter a topic or starting sentence:\n",
            "Is AI a threat or a tool?\n",
            "\n",
            "Generated Text:\n",
            "\n",
            "Is AI a threat or a tool?\n",
            "\n",
            "AI is a threat. It's not a tool. It's a software problem. It's a problem with the underlying operating system. It has been called a security problem. It's a tool. It's a tool.\n",
            "\n",
            "So does AI have a role in the economy?\n",
            "\n",
            "No. It's just a technology. It's a technology.\n",
            "\n",
            "How do you think AI will change the way you work?\n",
            "\n",
            "We don't know yet what the future will be\n",
            "\n",
            "--------------------------------------------------\n",
            "\n",
            "Enter a topic or starting sentence:\n",
            "How internships help students grow\n",
            "\n",
            "Generated Text:\n",
            "\n",
            "How internships help students grow and learn at a higher level:\n",
            "\n",
            "- Create and continue a high school program\n",
            "\n",
            "- Work through some of the most personal and challenging challenges of your career\n",
            "\n",
            "- Learn some of the secrets of how to successfully develop a professional career\n",
            "\n",
            "- Make sure you are mentoring and supporting students in the right ways\n",
            "\n",
            "- Make sure you are helping students get their education\n",
            "\n",
            "- Provide support to students who may not be able to get their education\n",
            "\n",
            "- Make sure you are\n",
            "\n",
            "--------------------------------------------------\n",
            "\n",
            "Enter a topic or starting sentence:\n",
            "exit\n",
            "Exiting the text generator.\n"
          ]
        }
      ],
      "source": [
        "from transformers import pipeline\n",
        "import warnings\n",
        "warnings.filterwarnings(\"ignore\")\n",
        "\n",
        "# Load the GPT-2 text generation model\n",
        "text_generator = pipeline(\"text-generation\", model=\"gpt2\")\n",
        "\n",
        "print(\"Text Generator using GPT-2\")\n",
        "print(\"Type 'exit' to quit.\\n\")\n",
        "\n",
        "# Loop to allow multiple prompts\n",
        "while True:\n",
        "    prompt = input(\"Enter a topic or starting sentence:\\n\")\n",
        "\n",
        "    if prompt.lower() == \"exit\":\n",
        "        print(\"Exiting the text generator.\")\n",
        "        break\n",
        "\n",
        "    # Generate text\n",
        "    output = text_generator(\n",
        "        prompt,\n",
        "        max_new_tokens=100,\n",
        "        temperature=0.7,\n",
        "        top_k=50,\n",
        "        num_return_sequences=1,\n",
        "        pad_token_id=50256\n",
        "    )\n",
        "\n",
        "    # Print the generated text\n",
        "    print(\"\\nGenerated Text:\\n\")\n",
        "    print(output[0][\"generated_text\"])\n",
        "    print(\"\\n\" + \"-\" * 50 + \"\\n\")\n",
        "\n"
      ]
    }
  ]
}